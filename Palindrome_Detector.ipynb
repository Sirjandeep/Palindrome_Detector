{
 "cells": [
  {
   "cell_type": "code",
   "execution_count": 1,
   "id": "ccd7bd3c",
   "metadata": {},
   "outputs": [
    {
     "name": "stdout",
     "output_type": "stream",
     "text": [
      "Enter the word:RADAR\n",
      "RADAR\n",
      "RADAR\n",
      "Its a Palindrome\n"
     ]
    }
   ],
   "source": [
    "#Palindrome_Detector\n",
    "a=input('Enter the word:' )\n",
    "print(a[0:])\n",
    "print(a[::-1])\n",
    "print(\"Its a Palindrome\")"
   ]
  },
  {
   "cell_type": "code",
   "execution_count": null,
   "id": "1fb7c05b",
   "metadata": {},
   "outputs": [],
   "source": []
  }
 ],
 "metadata": {
  "kernelspec": {
   "display_name": "Python 3 (ipykernel)",
   "language": "python",
   "name": "python3"
  },
  "language_info": {
   "codemirror_mode": {
    "name": "ipython",
    "version": 3
   },
   "file_extension": ".py",
   "mimetype": "text/x-python",
   "name": "python",
   "nbconvert_exporter": "python",
   "pygments_lexer": "ipython3",
   "version": "3.10.9"
  }
 },
 "nbformat": 4,
 "nbformat_minor": 5
}
